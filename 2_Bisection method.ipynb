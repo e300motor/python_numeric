{
 "cells": [
  {
   "cell_type": "markdown",
   "metadata": {},
   "source": [
    "Solving $f(x) = e^2 - 2x -1$"
   ]
  },
  {
   "cell_type": "code",
   "execution_count": 1,
   "metadata": {},
   "outputs": [],
   "source": [
    "import numpy as np\n",
    "import numpy.random as rn"
   ]
  },
  {
   "cell_type": "code",
   "execution_count": 2,
   "metadata": {},
   "outputs": [],
   "source": [
    "def f(x):\n",
    "    return np.exp(x)-2*x -1"
   ]
  },
  {
   "cell_type": "code",
   "execution_count": 3,
   "metadata": {},
   "outputs": [
    {
     "data": {
      "text/plain": [
       "-0.6730405158995095"
      ]
     },
     "execution_count": 3,
     "metadata": {},
     "output_type": "execute_result"
    }
   ],
   "source": [
    "f(1)*f(2)"
   ]
  },
  {
   "cell_type": "code",
   "execution_count": 4,
   "metadata": {},
   "outputs": [
    {
     "name": "stdout",
     "output_type": "stream",
     "text": [
      "Steps =  16\n",
      "Answer = 5.6121724245628e-07 , x = 1.2564315795898438\n"
     ]
    }
   ],
   "source": [
    "a = 2\n",
    "b = 1\n",
    "c=(a+b)/2\n",
    "\n",
    "threshold = 10**(-6)\n",
    "i = 0\n",
    "while abs(f(c)) > threshold:\n",
    "    if f(a)*f(c) < 0:\n",
    "        b = c\n",
    "    elif f(b)*f(c) < 0:\n",
    "        a = c \n",
    "    c=(a+b)/2\n",
    "    i+=1\n",
    "        \n",
    "print(\"Steps = \" , i)\n",
    "print(f'Answer = {f(c)} , x = {c}')"
   ]
  },
  {
   "cell_type": "code",
   "execution_count": null,
   "metadata": {},
   "outputs": [],
   "source": []
  }
 ],
 "metadata": {
  "kernelspec": {
   "display_name": "Python 3",
   "language": "python",
   "name": "python3"
  },
  "language_info": {
   "codemirror_mode": {
    "name": "ipython",
    "version": 3
   },
   "file_extension": ".py",
   "mimetype": "text/x-python",
   "name": "python",
   "nbconvert_exporter": "python",
   "pygments_lexer": "ipython3",
   "version": "3.7.0"
  }
 },
 "nbformat": 4,
 "nbformat_minor": 2
}
