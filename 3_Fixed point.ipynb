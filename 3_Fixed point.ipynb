{
 "cells": [
  {
   "cell_type": "markdown",
   "metadata": {},
   "source": [
    "Simple iteration : \n",
    "\\begin{align*}\n",
    "    x_n+1 = g(x_n)\n",
    "\\end{align*}    \n",
    "Solving  : \n",
    "\n",
    "\\begin{align*}\n",
    "    f(x) &= e^2 - 2x -1 \\\\\n",
    "    e^2 &= 2x + 1 \\\\\n",
    "    x &= ln(2x + 1) = g(x) \\\\\n",
    "\\end{align*}"
   ]
  },
  {
   "cell_type": "code",
   "execution_count": 10,
   "metadata": {},
   "outputs": [],
   "source": [
    "import numpy as np"
   ]
  },
  {
   "cell_type": "code",
   "execution_count": 11,
   "metadata": {},
   "outputs": [],
   "source": [
    "def g(x):\n",
    "    return np.log(2*x+1)"
   ]
  },
  {
   "cell_type": "code",
   "execution_count": 12,
   "metadata": {},
   "outputs": [],
   "source": [
    "def g1(x):\n",
    "    return (np.exp(x) -1)/2 "
   ]
  },
  {
   "cell_type": "code",
   "execution_count": 18,
   "metadata": {},
   "outputs": [
    {
     "name": "stdout",
     "output_type": "stream",
     "text": [
      "Step = 2 : x = 1.2551016984093304\n",
      "Step = 3 : x = 1.254097567033041\n",
      "Step = 4 : x = 1.2523371066435867\n",
      "Step = 5 : x = 1.249254900425386\n",
      "Step = 6 : x = 1.243871636520565\n",
      "Step = 7 : x = 1.2345091382944786\n",
      "Step = 8 : x = 1.2183455832614396\n",
      "Step = 9 : x = 1.190794273254875\n",
      "Step = 10 : x = 1.1448465426038914\n",
      "Step = 11 : x = 1.0709795814850882\n",
      "Step = 12 : x = 0.9591183754918959\n",
      "Step = 13 : x = 0.804697476246061\n",
      "Step = 14 : x = 0.6180099736701741\n",
      "Step = 15 : x = 0.4276162022626133\n",
      "Step = 16 : x = 0.26679868839993215\n",
      "Step = 17 : x = 0.1528887758507036\n",
      "Step = 18 : x = 0.08259768693552083\n",
      "Step = 19 : x = 0.04305238325165661\n",
      "Step = 20 : x = 0.021996290572191435\n",
      "Step = 21 : x = 0.011119996268974974\n",
      "Step = 22 : x = 0.00559102661929789\n",
      "Step = 23 : x = 0.0028033427891217544\n",
      "Step = 24 : x = 0.0014036379144396482\n",
      "Step = 25 : x = 0.0007023117376032673\n",
      "Step = 26 : x = 0.0003512792081183935\n",
      "Step = 27 : x = 0.00017567045694222294\n",
      "Step = 28 : x = 8.784294395025594e-05\n",
      "Step = 29 : x = 4.392340112735482e-05\n",
      "Step = 30 : x = 2.196218288708085e-05\n",
      "Step = 31 : x = 1.0981212028804421e-05\n",
      "Step = 32 : x = 5.490636161287199e-06\n",
      "Step = 33 : x = 2.745325617392602e-06\n",
      "Step = 34 : x = 1.3726646929113073e-06\n",
      "Step = 35 : x = 6.863328174677719e-07\n",
      "Step = 36 : x = 3.4316652652854884e-07\n",
      "Step = 37 : x = 1.7158329268518457e-07\n",
      "Step = 38 : x = 8.579165367006425e-08\n",
      "Step = 39 : x = 4.2895828666900115e-08\n",
      "Step = 40 : x = 2.1447914777539268e-08\n",
      "Step = 41 : x = 1.0723957499791936e-08\n",
      "Step = 42 : x = 5.361978749895968e-09\n",
      "Step = 43 : x = 2.6809894304591353e-09\n",
      "Step = 44 : x = 1.3404947152295676e-09\n",
      "Step = 45 : x = 6.702474131259351e-10\n",
      "Step = 46 : x = 3.3512370656296753e-10\n",
      "Step = 47 : x = 1.6756185328148376e-10\n",
      "Step = 48 : x = 8.378098215189311e-11\n",
      "Step = 49 : x = 4.1890491075946557e-11\n",
      "Step = 50 : x = 2.0945245537973278e-11\n",
      "Step = 51 : x = 1.0472622768986639e-11\n",
      "Step = 52 : x = 5.236255873342088e-12\n",
      "Step = 53 : x = 2.618127936671044e-12\n",
      "Step = 54 : x = 1.309063968335522e-12\n",
      "Step = 55 : x = 6.545874953189923e-13\n",
      "Steps =  55\n",
      "Answer = 6.545874953189923e-13\n"
     ]
    }
   ],
   "source": [
    "threshold = 10**(-12)\n",
    "x0 = 1.256\n",
    "x1 = g1(x0)\n",
    "i = 1\n",
    "while abs(x1 - x0) > threshold:\n",
    "    i+=1\n",
    "    x0 = x1\n",
    "    x1 = g1(x0)\n",
    "    print(f'Step = {i } : x = {x1}')\n",
    "    \n",
    "\n",
    "print(\"Steps = \" , i)\n",
    "print(f'Answer = {x1}')"
   ]
  },
  {
   "cell_type": "code",
   "execution_count": null,
   "metadata": {},
   "outputs": [],
   "source": []
  }
 ],
 "metadata": {
  "kernelspec": {
   "display_name": "Python 3",
   "language": "python",
   "name": "python3"
  },
  "language_info": {
   "codemirror_mode": {
    "name": "ipython",
    "version": 3
   },
   "file_extension": ".py",
   "mimetype": "text/x-python",
   "name": "python",
   "nbconvert_exporter": "python",
   "pygments_lexer": "ipython3",
   "version": "3.7.0"
  }
 },
 "nbformat": 4,
 "nbformat_minor": 2
}
