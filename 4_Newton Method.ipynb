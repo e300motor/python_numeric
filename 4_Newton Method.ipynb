{
 "cells": [
  {
   "cell_type": "markdown",
   "metadata": {},
   "source": [
    "<p>Solving...</p> \n",
    "$f(x) = e^2 - 2x -2$\n",
    "<p>Newton's method</p>\n",
    "$x_{n+1} = x_{n} - \\frac{f(x_n)}{f'(x_n)}$\n",
    "<p>Secant method</p>\n",
    "$x_{n+1}=x_n - f(x_n)\\frac{x_n - x_{n-1}}{f(x_n) - f(x_{n-1})}$"
   ]
  },
  {
   "cell_type": "code",
   "execution_count": 34,
   "metadata": {},
   "outputs": [],
   "source": [
    "import numpy as np"
   ]
  },
  {
   "cell_type": "code",
   "execution_count": 35,
   "metadata": {},
   "outputs": [],
   "source": [
    "def f(x):\n",
    "    return np.exp(x)-2*x -1"
   ]
  },
  {
   "cell_type": "code",
   "execution_count": 36,
   "metadata": {},
   "outputs": [],
   "source": [
    "def df(x):\n",
    "    return np.exp(x)-2"
   ]
  },
  {
   "cell_type": "code",
   "execution_count": 37,
   "metadata": {},
   "outputs": [],
   "source": [
    "def newton_method(f, df, x0=1.0, tolerance=10**(-16)): \n",
    "    i = 0\n",
    "    print(tolerance)\n",
    "    while abs(f(x0)) > tolerance:\n",
    "        x0 = x0 - f(x0)/df(x0)\n",
    "        i+=1\n",
    "    return x0, i\n",
    "   "
   ]
  },
  {
   "cell_type": "code",
   "execution_count": 38,
   "metadata": {},
   "outputs": [],
   "source": [
    "def secant_method(f, x0=1.0, x1=1.1, tolerance=10**(-14)):\n",
    "    i = 0\n",
    "    while abs(f(x1)) > tolerance:\n",
    "        x2 = x1 - f(x1)*(x1-x0)/(f(x1)-f(x0))\n",
    "        x0 = x1\n",
    "        x1 = x2\n",
    "        i+=1\n",
    "    return x1, i    "
   ]
  },
  {
   "cell_type": "code",
   "execution_count": 39,
   "metadata": {},
   "outputs": [
    {
     "name": "stdout",
     "output_type": "stream",
     "text": [
      "1e-16\n"
     ]
    }
   ],
   "source": [
    "x0, i= newton_method(lambda x:f(x), lambda x:df(x), -2, 10**(-16))"
   ]
  },
  {
   "cell_type": "code",
   "execution_count": 40,
   "metadata": {},
   "outputs": [
    {
     "data": {
      "text/plain": [
       "(9.24925567682534e-18, 6)"
      ]
     },
     "execution_count": 40,
     "metadata": {},
     "output_type": "execute_result"
    }
   ],
   "source": [
    "x0, i"
   ]
  },
  {
   "cell_type": "code",
   "execution_count": 43,
   "metadata": {},
   "outputs": [],
   "source": [
    "x1, j=secant_method(lambda x:f(x), -2, -2.1,10**(-16))"
   ]
  },
  {
   "cell_type": "code",
   "execution_count": 44,
   "metadata": {},
   "outputs": [
    {
     "data": {
      "text/plain": [
       "(-8.736554828775462e-17, 8)"
      ]
     },
     "execution_count": 44,
     "metadata": {},
     "output_type": "execute_result"
    }
   ],
   "source": [
    "x1, j"
   ]
  },
  {
   "cell_type": "code",
   "execution_count": null,
   "metadata": {},
   "outputs": [],
   "source": []
  }
 ],
 "metadata": {
  "kernelspec": {
   "display_name": "Python 3",
   "language": "python",
   "name": "python3"
  },
  "language_info": {
   "codemirror_mode": {
    "name": "ipython",
    "version": 3
   },
   "file_extension": ".py",
   "mimetype": "text/x-python",
   "name": "python",
   "nbconvert_exporter": "python",
   "pygments_lexer": "ipython3",
   "version": "3.7.0"
  }
 },
 "nbformat": 4,
 "nbformat_minor": 2
}
